{
 "cells": [
  {
   "cell_type": "markdown",
   "metadata": {
    "application/vnd.databricks.v1+cell": {
     "cellMetadata": {},
     "inputWidgets": {},
     "nuid": "570a8a71-94da-48ec-bb52-7c1d9601e0f9",
     "showTitle": false,
     "tableResultSettingsMap": {},
     "title": ""
    }
   },
   "source": [
    "#DATA READ & PROCESS"
   ]
  },
  {
   "cell_type": "code",
   "execution_count": 0,
   "metadata": {
    "application/vnd.databricks.v1+cell": {
     "cellMetadata": {
      "byteLimit": 2048000,
      "rowLimit": 10000
     },
     "inputWidgets": {},
     "nuid": "89633203-868a-41ba-8e86-246cf6053f1e",
     "showTitle": false,
     "tableResultSettingsMap": {},
     "title": ""
    }
   },
   "outputs": [
    {
     "output_type": "execute_result",
     "data": {
      "text/plain": [
       "<pyspark.sql.connect.session.SparkSession at 0xff9ebb2efb90>"
      ]
     },
     "execution_count": 5,
     "metadata": {},
     "output_type": "execute_result"
    }
   ],
   "source": [
    "from pyspark.sql import SparkSession\n",
    "spark = SparkSession.builder.appName(\"CustomerDataProcessing\").getOrCreate()\n",
    "spark"
   ]
  },
  {
   "cell_type": "code",
   "execution_count": 0,
   "metadata": {
    "application/vnd.databricks.v1+cell": {
     "cellMetadata": {
      "byteLimit": 2048000,
      "rowLimit": 10000
     },
     "inputWidgets": {},
     "nuid": "8dd63d52-04d4-4a36-949b-6ee7c6fc502d",
     "showTitle": false,
     "tableResultSettingsMap": {},
     "title": ""
    }
   },
   "outputs": [
    {
     "output_type": "stream",
     "name": "stdout",
     "output_type": "stream",
     "text": [
      "+-----------+-------------------+----------------+--------------+----------+-----------------+---------+\n|customer_id|               name|            city|         state|   country|registration_date|is_active|\n+-----------+-------------------+----------------+--------------+----------+-----------------+---------+\n|          1|Samantha Montgomery|      Teresafurt|      Kentucky|      Cuba|       2024-11-03|    false|\n|          2|       Richard Moon|         Annfurt|    California|   Burundi|       2025-06-14|     true|\n|          3|     Cameron Murray|       Kaylatown|      Missouri|   Algeria|       2021-08-11|     true|\n|          4|       Amanda Kelly|North Annchester|  South Dakota|Tajikistan|       2020-10-28|     true|\n|          5|      Omar Martinez|      Vargastown|North Carolina|    Latvia|       2023-02-28|    false|\n+-----------+-------------------+----------------+--------------+----------+-----------------+---------+\nonly showing top 5 rows\n"
     ]
    }
   ],
   "source": [
    "\n",
    "df = spark.read.option(\"header\", True).option(\"inferSchema\", True).csv(\"/Volumes/workspace/default/test/customer_data_50_records.csv\")\n",
    "\n",
    "\n",
    "df.show(5)\n",
    "\n"
   ]
  },
  {
   "cell_type": "code",
   "execution_count": 0,
   "metadata": {
    "application/vnd.databricks.v1+cell": {
     "cellMetadata": {
      "byteLimit": 2048000,
      "rowLimit": 10000
     },
     "inputWidgets": {},
     "nuid": "f0156b3a-027b-47b8-ad47-b4129bf407d0",
     "showTitle": false,
     "tableResultSettingsMap": {},
     "title": ""
    }
   },
   "outputs": [
    {
     "output_type": "stream",
     "name": "stdout",
     "output_type": "stream",
     "text": [
      "root\n |-- customer_id: integer (nullable = true)\n |-- name: string (nullable = true)\n |-- city: string (nullable = true)\n |-- state: string (nullable = true)\n |-- country: string (nullable = true)\n |-- registration_date: date (nullable = true)\n |-- is_active: boolean (nullable = true)\n\n"
     ]
    }
   ],
   "source": [
    "df.printSchema()"
   ]
  },
  {
   "cell_type": "code",
   "execution_count": 0,
   "metadata": {
    "application/vnd.databricks.v1+cell": {
     "cellMetadata": {
      "byteLimit": 2048000,
      "rowLimit": 10000
     },
     "inputWidgets": {},
     "nuid": "fb457eba-5556-4960-aa66-36bc9ae9ce1c",
     "showTitle": false,
     "tableResultSettingsMap": {},
     "title": ""
    }
   },
   "outputs": [],
   "source": [
    "from pyspark.sql.functions import*"
   ]
  },
  {
   "cell_type": "code",
   "execution_count": 0,
   "metadata": {
    "application/vnd.databricks.v1+cell": {
     "cellMetadata": {
      "byteLimit": 2048000,
      "rowLimit": 10000
     },
     "inputWidgets": {},
     "nuid": "bead38d6-62e5-46df-8f20-d4c57307dbd4",
     "showTitle": false,
     "tableResultSettingsMap": {},
     "title": ""
    }
   },
   "outputs": [],
   "source": [
    "\n",
    "df = df.withColumn(\n",
    "    'registration_date', \n",
    "    to_date(col('registration_date'), 'yyyy/MM/dd')\n",
    ").withColumn(\n",
    "    'is_active', \n",
    "    col('is_active').cast('boolean')\n",
    ")"
   ]
  },
  {
   "cell_type": "code",
   "execution_count": 0,
   "metadata": {
    "application/vnd.databricks.v1+cell": {
     "cellMetadata": {
      "byteLimit": 2048000,
      "rowLimit": 10000
     },
     "inputWidgets": {},
     "nuid": "60476a1a-f605-4634-b5c0-b71ae9bd6349",
     "showTitle": false,
     "tableResultSettingsMap": {},
     "title": ""
    }
   },
   "outputs": [
    {
     "output_type": "stream",
     "name": "stdout",
     "output_type": "stream",
     "text": [
      "+-----------+-------------------+----------------+--------------+--------------------+-----------------+---------+\n|customer_id|               name|            city|         state|             country|registration_date|is_active|\n+-----------+-------------------+----------------+--------------+--------------------+-----------------+---------+\n|          1|Samantha Montgomery|      Teresafurt|      Kentucky|                Cuba|       2024-11-03|    false|\n|          2|       Richard Moon|         Annfurt|    California|             Burundi|       2025-06-14|     true|\n|          3|     Cameron Murray|       Kaylatown|      Missouri|             Algeria|       2021-08-11|     true|\n|          4|       Amanda Kelly|North Annchester|  South Dakota|          Tajikistan|       2020-10-28|     true|\n|          5|      Omar Martinez|      Vargastown|North Carolina|              Latvia|       2023-02-28|    false|\n|          6|      James Johnson|       Maryburgh|         Idaho|          San Marino|       2022-01-26|     true|\n|          7|      Tommy Mcclain|   Alexandertown|      Oklahoma|    Pitcairn Islands|       2023-03-03|     true|\n|          8|   Teresa Whitehead|      Karenmouth|       Wyoming|             Ecuador|       2025-01-14|     true|\n|          9|     Margaret Davis|   Rodriguezview|      Colorado|       Guinea-Bissau|       2020-11-06|    false|\n|         10|     Katelyn Porter|      Jamesmouth|    New Jersey|             Nigeria|       2025-04-02|    false|\n|         11|       Jason Powers|     West Steven|       Wyoming|             Estonia|       2023-10-10|     true|\n|         12|         Bobby Shaw|  West Hollystad|      Michigan|Falkland Islands ...|       2023-05-29|     true|\n|         13|      Sheri Jackson|       Rojastown|     Louisiana|          Azerbaijan|       2023-08-06|     true|\n|         14|        Leah Wilson|Hendersonborough|North Carolina|          Guadeloupe|       2023-11-29|     true|\n|         15|      Jennifer Sims|    South Daniel|       Montana|             Lebanon|       2024-12-12|     true|\n|         16|   Dr. Manuel Jones|New Williammouth|   Mississippi|             Austria|       2023-04-23|    false|\n|         17|         Brian Lang|      West Robin|       Arizona|               Malta|       2022-08-02|     true|\n|         18|       Thomas Bauer|      Hannahland|  Rhode Island|        Burkina Faso|       2022-02-24|     true|\n|         19|    Kimberly Watson|     New Brandon|      Nebraska|               Niger|       2021-11-17|    false|\n|         20|    Andrew Davidson|    South Gloria|  Pennsylvania|               Spain|       2022-06-21|    false|\n+-----------+-------------------+----------------+--------------+--------------------+-----------------+---------+\nonly showing top 20 rows\n"
     ]
    }
   ],
   "source": [
    "df.show()"
   ]
  },
  {
   "cell_type": "code",
   "execution_count": 0,
   "metadata": {
    "application/vnd.databricks.v1+cell": {
     "cellMetadata": {
      "byteLimit": 2048000,
      "rowLimit": 10000
     },
     "inputWidgets": {},
     "nuid": "70fa56d7-60d4-4989-8c43-4f95195d176e",
     "showTitle": false,
     "tableResultSettingsMap": {},
     "title": ""
    }
   },
   "outputs": [],
   "source": [
    "df=df.fillna({'city':'unkown','state':'unkown','country':'unkown'})\n"
   ]
  },
  {
   "cell_type": "code",
   "execution_count": 0,
   "metadata": {
    "application/vnd.databricks.v1+cell": {
     "cellMetadata": {
      "byteLimit": 2048000,
      "rowLimit": 10000
     },
     "inputWidgets": {},
     "nuid": "804f92b5-f07d-479f-b3d7-8b4aa2f0d681",
     "showTitle": false,
     "tableResultSettingsMap": {},
     "title": ""
    }
   },
   "outputs": [
    {
     "output_type": "stream",
     "name": "stdout",
     "output_type": "stream",
     "text": [
      "+-----------+-------------------+----------------+--------------+----------+-----------------+---------+\n|customer_id|               name|            city|         state|   country|registration_date|is_active|\n+-----------+-------------------+----------------+--------------+----------+-----------------+---------+\n|          1|Samantha Montgomery|      Teresafurt|      Kentucky|      Cuba|       2024-11-03|    false|\n|          2|       Richard Moon|         Annfurt|    California|   Burundi|       2025-06-14|     true|\n|          3|     Cameron Murray|       Kaylatown|      Missouri|   Algeria|       2021-08-11|     true|\n|          4|       Amanda Kelly|North Annchester|  South Dakota|Tajikistan|       2020-10-28|     true|\n|          5|      Omar Martinez|      Vargastown|North Carolina|    Latvia|       2023-02-28|    false|\n+-----------+-------------------+----------------+--------------+----------+-----------------+---------+\nonly showing top 5 rows\n"
     ]
    }
   ],
   "source": [
    "df.show(5)"
   ]
  },
  {
   "cell_type": "code",
   "execution_count": 0,
   "metadata": {
    "application/vnd.databricks.v1+cell": {
     "cellMetadata": {
      "byteLimit": 2048000,
      "rowLimit": 10000
     },
     "inputWidgets": {},
     "nuid": "420b76ca-61a1-4ece-b43f-0730a99497a9",
     "showTitle": false,
     "tableResultSettingsMap": {},
     "title": ""
    }
   },
   "outputs": [
    {
     "output_type": "stream",
     "name": "stdout",
     "output_type": "stream",
     "text": [
      "+-----------+-------------------+----------------+--------------+----------+-----------------+---------+-----------------+\n|customer_id|               name|            city|         state|   country|registration_date|is_active|registration_year|\n+-----------+-------------------+----------------+--------------+----------+-----------------+---------+-----------------+\n|          1|Samantha Montgomery|      Teresafurt|      Kentucky|      Cuba|       2024-11-03|    false|             2024|\n|          2|       Richard Moon|         Annfurt|    California|   Burundi|       2025-06-14|     true|             2025|\n|          3|     Cameron Murray|       Kaylatown|      Missouri|   Algeria|       2021-08-11|     true|             2021|\n|          4|       Amanda Kelly|North Annchester|  South Dakota|Tajikistan|       2020-10-28|     true|             2020|\n|          5|      Omar Martinez|      Vargastown|North Carolina|    Latvia|       2023-02-28|    false|             2023|\n+-----------+-------------------+----------------+--------------+----------+-----------------+---------+-----------------+\nonly showing top 5 rows\n"
     ]
    }
   ],
   "source": [
    "df=df.withColumn('registration_year',year(col('registration_date')))\n",
    "df.show(5)"
   ]
  },
  {
   "cell_type": "code",
   "execution_count": 0,
   "metadata": {
    "application/vnd.databricks.v1+cell": {
     "cellMetadata": {
      "byteLimit": 2048000,
      "rowLimit": 10000
     },
     "inputWidgets": {},
     "nuid": "aea44c88-f19a-41bf-a268-adb70175ba7b",
     "showTitle": false,
     "tableResultSettingsMap": {},
     "title": ""
    }
   },
   "outputs": [
    {
     "output_type": "execute_result",
     "data": {
      "text/plain": [
       "42"
      ]
     },
     "execution_count": 173,
     "metadata": {},
     "output_type": "execute_result"
    }
   ],
   "source": [
    "unique_cities=df.select(countDistinct('city')).collect()\n",
    "unique_cities[0]\n",
    "unique_states=df.select(countDistinct('state')).collect()\n",
    "unique_states[0]\n",
    "unique_countries=df.select(countDistinct('country')).collect()\n",
    "unique_countries[0][0]"
   ]
  },
  {
   "cell_type": "code",
   "execution_count": 0,
   "metadata": {
    "application/vnd.databricks.v1+cell": {
     "cellMetadata": {
      "byteLimit": 2048000,
      "rowLimit": 10000
     },
     "inputWidgets": {},
     "nuid": "4ba5929c-32d3-4e27-96a9-395ab99ce322",
     "showTitle": false,
     "tableResultSettingsMap": {},
     "title": ""
    }
   },
   "outputs": [
    {
     "output_type": "stream",
     "name": "stdout",
     "output_type": "stream",
     "text": [
      "+----------+-----+----+\n|     state|false|true|\n+----------+-----+----+\n|     Maine|    1|NULL|\n|New Jersey|    1|   1|\n|  Arkansas|    1|NULL|\n|   Arizona| NULL|   1|\n|     Idaho| NULL|   3|\n+----------+-----+----+\nonly showing top 5 rows\n"
     ]
    }
   ],
   "source": [
    "df.groupBy('state').pivot('is_active').count().show(5)\n"
   ]
  },
  {
   "cell_type": "code",
   "execution_count": 0,
   "metadata": {
    "application/vnd.databricks.v1+cell": {
     "cellMetadata": {
      "byteLimit": 2048000,
      "rowLimit": 10000
     },
     "inputWidgets": {},
     "nuid": "0a0659d6-44df-42fb-adda-702b44b3dbb7",
     "showTitle": false,
     "tableResultSettingsMap": {},
     "title": ""
    }
   },
   "outputs": [
    {
     "output_type": "stream",
     "name": "stdout",
     "output_type": "stream",
     "text": [
      "+-----------+---------------+----------------+----------+--------------------+-----------------+---------+-----------------+----+----------+----------+\n|customer_id|           name|            city|     state|             country|registration_date|is_active|registration_year|rank|dense_rank|row_number|\n+-----------+---------------+----------------+----------+--------------------+-----------------+---------+-----------------+----+----------+----------+\n|         50|Katherine Smith|North Jamieburgh|    Alaska|                Cuba|       2020-08-23|     true|             2020|   1|         1|         1|\n|         17|     Brian Lang|      West Robin|   Arizona|               Malta|       2022-08-02|     true|             2022|   1|         1|         1|\n|         47|     Pamela Kim|        Ryanberg|  Arkansas|Falkland Islands ...|       2023-12-26|    false|             2023|   1|         1|         1|\n|          2|   Richard Moon|         Annfurt|California|             Burundi|       2025-06-14|     true|             2025|   1|         1|         1|\n|         46|  Susan Hartman| North Dawnburgh|California|      American Samoa|       2021-06-21|    false|             2021|   2|         2|         2|\n+-----------+---------------+----------------+----------+--------------------+-----------------+---------+-----------------+----+----------+----------+\nonly showing top 5 rows\n"
     ]
    }
   ],
   "source": [
    "from pyspark.sql.window import Window\n",
    "from pyspark.sql.functions import col, rank, dense_rank, row_number\n",
    "\n",
    "window_spec = Window.partitionBy('state').orderBy(col('registration_year').desc())\n",
    "\n",
    "df = df.withColumn('rank', rank().over(window_spec))\\\n",
    "       .withColumn('dense_rank', dense_rank().over(window_spec))\\\n",
    "       .withColumn('row_number', row_number().over(window_spec))\n",
    "\n",
    "df.show(5)\n"
   ]
  },
  {
   "cell_type": "code",
   "execution_count": 0,
   "metadata": {
    "application/vnd.databricks.v1+cell": {
     "cellMetadata": {
      "byteLimit": 2048000,
      "rowLimit": 10000
     },
     "inputWidgets": {},
     "nuid": "e124cb97-72a4-457a-aa16-974de05b299a",
     "showTitle": false,
     "tableResultSettingsMap": {},
     "title": ""
    }
   },
   "outputs": [
    {
     "output_type": "stream",
     "name": "stdout",
     "output_type": "stream",
     "text": [
      "+---------------+----------------+----------+--------------------+----+----------+----------+\n|           name|            city|     state|             country|rank|dense_rank|row_number|\n+---------------+----------------+----------+--------------------+----+----------+----------+\n|Katherine Smith|North Jamieburgh|    Alaska|                Cuba|   1|         1|         1|\n|     Brian Lang|      West Robin|   Arizona|               Malta|   1|         1|         1|\n|     Pamela Kim|        Ryanberg|  Arkansas|Falkland Islands ...|   1|         1|         1|\n|   Richard Moon|         Annfurt|California|             Burundi|   1|         1|         1|\n|  Susan Hartman| North Dawnburgh|California|      American Samoa|   2|         2|         2|\n+---------------+----------------+----------+--------------------+----+----------+----------+\nonly showing top 5 rows\n"
     ]
    }
   ],
   "source": [
    "df.select('name','city','state','country','rank','dense_rank','row_number').show(5)"
   ]
  },
  {
   "cell_type": "code",
   "execution_count": 0,
   "metadata": {
    "application/vnd.databricks.v1+cell": {
     "cellMetadata": {
      "byteLimit": 2048000,
      "rowLimit": 10000
     },
     "inputWidgets": {},
     "nuid": "4abcf873-7a98-4a07-9c73-5b2a05d9dbdc",
     "showTitle": false,
     "tableResultSettingsMap": {},
     "title": ""
    }
   },
   "outputs": [
    {
     "output_type": "stream",
     "name": "stdout",
     "output_type": "stream",
     "text": [
      "+-----------+-------------------+----------------+--------------+--------------------+-----------------+---------+-----------------+----+----------+----------+\n|customer_id|               name|            city|         state|             country|registration_date|is_active|registration_year|rank|dense_rank|row_number|\n+-----------+-------------------+----------------+--------------+--------------------+-----------------+---------+-----------------+----+----------+----------+\n|         47|         Pamela Kim|        Ryanberg|      Arkansas|Falkland Islands ...|       2023-12-26|    false|             2023|   1|         1|         1|\n|          2|       Richard Moon|         Annfurt|    California|             Burundi|       2025-06-14|     true|             2025|   1|         1|         1|\n|         48|  Dr. Krista Graham|     Chavezmouth|      Delaware|    Pitcairn Islands|       2025-06-27|    false|             2025|   1|         1|         1|\n|         26|        Julie Kelly|   West Aprilton|        Hawaii|              Jordan|       2024-01-08|     true|             2024|   1|         1|         1|\n|         41|    Carl Morris DDS|       Boydshire|        Kansas|             Tunisia|       2024-07-05|    false|             2024|   1|         1|         1|\n|          1|Samantha Montgomery|      Teresafurt|      Kentucky|                Cuba|       2024-11-03|    false|             2024|   1|         1|         1|\n|         13|      Sheri Jackson|       Rojastown|     Louisiana|          Azerbaijan|       2023-08-06|     true|             2023|   1|         1|         1|\n|         45|       Matthew Gill|        Roseview|     Minnesota|      American Samoa|       2025-01-30|    false|             2025|   1|         1|         1|\n|         22|         James Bean|       Smithland|      Missouri|             Lebanon|       2024-03-30|    false|             2024|   1|         1|         1|\n|         38|  Mrs. Tina Rodgers|       Bakerfort|      Missouri|                Togo|       2023-07-26|    false|             2023|   2|         2|         2|\n|         15|      Jennifer Sims|    South Daniel|       Montana|             Lebanon|       2024-12-12|     true|             2024|   1|         1|         1|\n|         44|      Vicki Shelton|West Amandaville| New Hampshire|               Malta|       2023-08-17|     true|             2023|   1|         1|         1|\n|         10|     Katelyn Porter|      Jamesmouth|    New Jersey|             Nigeria|       2025-04-02|    false|             2025|   1|         1|         1|\n|         21|       Nicole Perry|     New Patrick|    New Jersey|             Vietnam|       2023-08-08|     true|             2023|   2|         2|         2|\n|         14|        Leah Wilson|Hendersonborough|North Carolina|          Guadeloupe|       2023-11-29|     true|             2023|   1|         1|         2|\n|         27|         Ana Powell|    Matthewville|  North Dakota|              Malawi|       2023-09-15|     true|             2023|   1|         1|         1|\n|         32|       Debra Norris|       Frankfurt|  Rhode Island|              Canada|       2024-10-22|    false|             2024|   1|         1|         1|\n|         42|      Jennifer Gill|       Ambertown|     Tennessee|United Arab Emirates|       2024-04-16|     true|             2024|   1|         1|         1|\n|         39|         Ryan Fritz|       Wolfeport|          Utah|        Sierra Leone|       2024-04-25|     true|             2024|   1|         1|         1|\n|         29|  Richard Maldonado|   East Brittany| West Virginia|             Vanuatu|       2025-05-21|    false|             2025|   1|         1|         1|\n+-----------+-------------------+----------------+--------------+--------------------+-----------------+---------+-----------------+----+----------+----------+\nonly showing top 20 rows\n"
     ]
    },
    {
     "output_type": "execute_result",
     "data": {
      "text/plain": [
       "50"
      ]
     },
     "execution_count": 204,
     "metadata": {},
     "output_type": "execute_result"
    }
   ],
   "source": [
    "df_recent_customer = df.filter(col(\"registration_date\") >= lit(\"2023-07-01\"))\n",
    "df_recent_customer.show()\n",
    "df.count()"
   ]
  },
  {
   "cell_type": "markdown",
   "metadata": {
    "application/vnd.databricks.v1+cell": {
     "cellMetadata": {},
     "inputWidgets": {},
     "nuid": "8ae875e6-e1dd-47a7-b498-95c7e42bfa7a",
     "showTitle": false,
     "tableResultSettingsMap": {},
     "title": ""
    }
   },
   "source": [
    "OLDEST AND NEWST CUSTOMER PER CITY"
   ]
  },
  {
   "cell_type": "code",
   "execution_count": 0,
   "metadata": {
    "application/vnd.databricks.v1+cell": {
     "cellMetadata": {
      "byteLimit": 2048000,
      "rowLimit": 10000
     },
     "inputWidgets": {},
     "nuid": "a838da8e-31f8-44bf-a22b-c3a488b960ee",
     "showTitle": false,
     "tableResultSettingsMap": {},
     "title": ""
    }
   },
   "outputs": [
    {
     "output_type": "stream",
     "name": "stdout",
     "output_type": "stream",
     "text": [
      "+----------------+----------+----------+\n|            city|    oldest|    newest|\n+----------------+----------+----------+\n|New Williammouth|2023-04-23|2023-04-23|\n|       Frankfurt|2024-10-22|2024-10-22|\n|       Smithland|2024-03-30|2024-03-30|\n|      Teresafurt|2024-11-03|2024-11-03|\n|       Rosehaven|2022-07-07|2022-07-07|\n+----------------+----------+----------+\nonly showing top 5 rows\n"
     ]
    }
   ],
   "source": [
    "df.groupBy('city').agg(min('registration_date').alias('oldest'),max('registration_date').alias('newest')).show(5)\n"
   ]
  },
  {
   "cell_type": "markdown",
   "metadata": {
    "application/vnd.databricks.v1+cell": {
     "cellMetadata": {},
     "inputWidgets": {},
     "nuid": "1e77501b-3edf-4def-842c-5c05f20e8ef5",
     "showTitle": false,
     "tableResultSettingsMap": {},
     "title": ""
    }
   },
   "source": [
    "# JOINNING AND ANALYZING CUSTOMER ORDERS"
   ]
  },
  {
   "cell_type": "code",
   "execution_count": 0,
   "metadata": {
    "application/vnd.databricks.v1+cell": {
     "cellMetadata": {
      "byteLimit": 2048000,
      "rowLimit": 10000
     },
     "inputWidgets": {},
     "nuid": "8875748d-c45e-491e-827d-7508ccc9790b",
     "showTitle": false,
     "tableResultSettingsMap": {},
     "title": ""
    }
   },
   "outputs": [
    {
     "output_type": "stream",
     "name": "stdout",
     "output_type": "stream",
     "text": [
      "+--------+-----------+----------+------------------+---------+\n|order_id|customer_id|order_date|      total_amount|   status|\n+--------+-----------+----------+------------------+---------+\n|       0|       1564|2024-08-09| 3965.908675151353|Delivered|\n|       1|      11438|2024-08-04|  3391.31034436957|  Pending|\n|       2|       1604|2024-08-10|1318.0750183651003|  Pending|\n|       3|       7489|2024-08-22| 513.9839357261428|Delivered|\n|       4|       1554|2024-08-05|2361.3925218392974|Delivered|\n+--------+-----------+----------+------------------+---------+\nonly showing top 5 rows\n"
     ]
    }
   ],
   "source": [
    "orders_df=spark.read.format('csv').option('header','true').option('inferSchema','true').load('/Volumes/workspace/default/test/orders_data_adjusted.csv')\n",
    "orders_df.show(5)"
   ]
  },
  {
   "cell_type": "code",
   "execution_count": 0,
   "metadata": {
    "application/vnd.databricks.v1+cell": {
     "cellMetadata": {
      "byteLimit": 2048000,
      "rowLimit": 10000
     },
     "inputWidgets": {},
     "nuid": "e7e70640-d0d3-4243-8667-cb02345f3099",
     "showTitle": false,
     "tableResultSettingsMap": {},
     "title": ""
    }
   },
   "outputs": [],
   "source": [
    "customers_orders_df=df.join(orders_df,'customer_id',\"outer\")\n",
    "\n"
   ]
  },
  {
   "cell_type": "code",
   "execution_count": 0,
   "metadata": {
    "application/vnd.databricks.v1+cell": {
     "cellMetadata": {
      "byteLimit": 2048000,
      "rowLimit": 10000
     },
     "inputWidgets": {},
     "nuid": "8f897711-b034-4c88-9e94-3eea199309b9",
     "showTitle": false,
     "tableResultSettingsMap": {},
     "title": ""
    }
   },
   "outputs": [
    {
     "output_type": "stream",
     "name": "stdout",
     "output_type": "stream",
     "text": [
      "+-----------+-------------------+----------------+-------------+--------------------+-----------------+---------+-----------------+----+----------+----------+--------+----------+------------+------+\n|customer_id|               name|            city|        state|             country|registration_date|is_active|registration_year|rank|dense_rank|row_number|order_id|order_date|total_amount|status|\n+-----------+-------------------+----------------+-------------+--------------------+-----------------+---------+-----------------+----+----------+----------+--------+----------+------------+------+\n|         29|  Richard Maldonado|   East Brittany|West Virginia|             Vanuatu|       2025-05-21|    false|             2025|   1|         1|         1|    NULL|      NULL|        NULL|  NULL|\n|         24|    Matthew Stewart|       Rosehaven|        Idaho|British Virgin Is...|       2022-07-07|     true|             2022|   1|         1|         2|    NULL|      NULL|        NULL|  NULL|\n|         39|         Ryan Fritz|       Wolfeport|         Utah|        Sierra Leone|       2024-04-25|     true|             2024|   1|         1|         1|    NULL|      NULL|        NULL|  NULL|\n|         38|  Mrs. Tina Rodgers|       Bakerfort|     Missouri|                Togo|       2023-07-26|    false|             2023|   2|         2|         2|    NULL|      NULL|        NULL|  NULL|\n|         15|      Jennifer Sims|    South Daniel|      Montana|             Lebanon|       2024-12-12|     true|             2024|   1|         1|         1|    NULL|      NULL|        NULL|  NULL|\n|         20|    Andrew Davidson|    South Gloria| Pennsylvania|               Spain|       2022-06-21|    false|             2022|   1|         1|         1|    NULL|      NULL|        NULL|  NULL|\n|         21|       Nicole Perry|     New Patrick|   New Jersey|             Vietnam|       2023-08-08|     true|             2023|   2|         2|         2|    NULL|      NULL|        NULL|  NULL|\n|         44|      Vicki Shelton|West Amandaville|New Hampshire|               Malta|       2023-08-17|     true|             2023|   1|         1|         1|    NULL|      NULL|        NULL|  NULL|\n|         22|         James Bean|       Smithland|     Missouri|             Lebanon|       2024-03-30|    false|             2024|   1|         1|         1|    NULL|      NULL|        NULL|  NULL|\n|         26|        Julie Kelly|   West Aprilton|       Hawaii|              Jordan|       2024-01-08|     true|             2024|   1|         1|         1|    NULL|      NULL|        NULL|  NULL|\n|         17|         Brian Lang|      West Robin|      Arizona|               Malta|       2022-08-02|     true|             2022|   1|         1|         1|    NULL|      NULL|        NULL|  NULL|\n|         47|         Pamela Kim|        Ryanberg|     Arkansas|Falkland Islands ...|       2023-12-26|    false|             2023|   1|         1|         1|    NULL|      NULL|        NULL|  NULL|\n|          1|Samantha Montgomery|      Teresafurt|     Kentucky|                Cuba|       2024-11-03|    false|             2024|   1|         1|         1|    NULL|      NULL|        NULL|  NULL|\n|         48|  Dr. Krista Graham|     Chavezmouth|     Delaware|    Pitcairn Islands|       2025-06-27|    false|             2025|   1|         1|         1|    NULL|      NULL|        NULL|  NULL|\n|         30|        Mark Murray|      Benderport|       Kansas|         Isle of Man|       2022-06-19|     true|             2022|   3|         3|         3|    NULL|      NULL|        NULL|  NULL|\n|         46|      Susan Hartman| North Dawnburgh|   California|      American Samoa|       2021-06-21|    false|             2021|   2|         2|         2|    NULL|      NULL|        NULL|  NULL|\n|         23|      Kimberly Lowe|       Derekview|Massachusetts|          Costa Rica|       2021-04-13|    false|             2021|   2|         2|         2|    NULL|      NULL|        NULL|  NULL|\n|         42|      Jennifer Gill|       Ambertown|    Tennessee|United Arab Emirates|       2024-04-16|     true|             2024|   1|         1|         1|    NULL|      NULL|        NULL|  NULL|\n|          4|       Amanda Kelly|North Annchester| South Dakota|          Tajikistan|       2020-10-28|     true|             2020|   1|         1|         1|    NULL|      NULL|        NULL|  NULL|\n|         13|      Sheri Jackson|       Rojastown|    Louisiana|          Azerbaijan|       2023-08-06|     true|             2023|   1|         1|         1|    NULL|      NULL|        NULL|  NULL|\n+-----------+-------------------+----------------+-------------+--------------------+-----------------+---------+-----------------+----+----------+----------+--------+----------+------------+------+\nonly showing top 20 rows\n"
     ]
    }
   ],
   "source": [
    "customers_orders_df.show()"
   ]
  },
  {
   "cell_type": "code",
   "execution_count": 0,
   "metadata": {
    "application/vnd.databricks.v1+cell": {
     "cellMetadata": {
      "byteLimit": 2048000,
      "rowLimit": 10000
     },
     "inputWidgets": {},
     "nuid": "6deac897-2e42-4768-bf27-634acabd3caa",
     "showTitle": false,
     "tableResultSettingsMap": {},
     "title": ""
    }
   },
   "outputs": [
    {
     "output_type": "stream",
     "name": "stdout",
     "output_type": "stream",
     "text": [
      "+-----------+-----+\n|customer_id|count|\n+-----------+-----+\n|         24|    1|\n|       5967|    1|\n|       2698|    1|\n|         29|    1|\n|         39|    1|\n+-----------+-----+\nonly showing top 5 rows\n"
     ]
    }
   ],
   "source": [
    "#get total order per customer \n",
    "\n",
    "customers_orders_count=customers_orders_df.groupBy('customer_id').count().orderBy(col('count').desc())\n",
    "customers_orders_count.show(5)"
   ]
  },
  {
   "cell_type": "code",
   "execution_count": 0,
   "metadata": {
    "application/vnd.databricks.v1+cell": {
     "cellMetadata": {
      "byteLimit": 2048000,
      "rowLimit": 10000
     },
     "inputWidgets": {},
     "nuid": "00aa27c9-a6c6-49c4-a0c3-61fac7414e05",
     "showTitle": false,
     "tableResultSettingsMap": {},
     "title": ""
    }
   },
   "outputs": [
    {
     "output_type": "stream",
     "name": "stdout",
     "output_type": "stream",
     "text": [
      "+-----------+------------------+\n|customer_id| sum(total_amount)|\n+-----------+------------------+\n|      11251| 4852.791766322864|\n|       7630| 4785.446954689925|\n|       3047|4666.8361800275925|\n|       6520| 4508.368568009902|\n|      13161| 4500.269893291697|\n|      10224| 4494.740364834989|\n|      14568| 4485.984719835927|\n|       5967| 4250.017746613385|\n|      12921| 4182.487922944138|\n|       4011| 4123.033676276145|\n+-----------+------------------+\nonly showing top 10 rows\n"
     ]
    }
   ],
   "source": [
    "#total spend per customer \n",
    "customer_total_spend= customers_orders_df.groupBy('customer_id').agg(sum('total_amount')).orderBy(col('sum(total_amount)').desc())\n",
    "customer_total_spend.show(10)"
   ]
  },
  {
   "cell_type": "code",
   "execution_count": 0,
   "metadata": {
    "application/vnd.databricks.v1+cell": {
     "cellMetadata": {
      "byteLimit": 2048000,
      "rowLimit": 10000
     },
     "inputWidgets": {},
     "nuid": "311ff99c-f6c8-4297-ac7c-09c223e357a1",
     "showTitle": false,
     "tableResultSettingsMap": {},
     "title": ""
    }
   },
   "outputs": [
    {
     "output_type": "stream",
     "name": "stdout",
     "output_type": "stream",
     "text": [
      "+-----------+------------------+\n|customer_id| avg(total_amount)|\n+-----------+------------------+\n|      11251| 4852.791766322864|\n|       7630| 4785.446954689925|\n|       3047|4666.8361800275925|\n|       6520| 4508.368568009902|\n|      13161| 4500.269893291697|\n|      10224| 4494.740364834989|\n|      14568| 4485.984719835927|\n|       5967| 4250.017746613385|\n|      12921| 4182.487922944138|\n|       4011| 4123.033676276145|\n+-----------+------------------+\nonly showing top 10 rows\n"
     ]
    }
   ],
   "source": [
    "#AVG SPEND\n",
    "customer_avg_spend= customers_orders_df.groupBy('customer_id').agg(avg('total_amount')).orderBy(col('avg(total_amount)').desc())\n",
    "customer_avg_spend.show(10)"
   ]
  },
  {
   "cell_type": "code",
   "execution_count": 0,
   "metadata": {
    "application/vnd.databricks.v1+cell": {
     "cellMetadata": {
      "byteLimit": 2048000,
      "rowLimit": 10000
     },
     "inputWidgets": {},
     "nuid": "145c1a81-666a-4dc9-adde-5701698dfc55",
     "showTitle": false,
     "tableResultSettingsMap": {},
     "title": ""
    }
   },
   "outputs": [
    {
     "output_type": "stream",
     "name": "stdout",
     "output_type": "stream",
     "text": [
      "+---------+-----+\n|   status|count|\n+---------+-----+\n|     NULL|   50|\n|Delivered|   17|\n|Cancelled|    8|\n|  Shipped|   13|\n|  Pending|   12|\n+---------+-----+\n\n"
     ]
    }
   ],
   "source": [
    "#ORDER BY STATUS \n",
    "order_status_count= customers_orders_df.groupBy('status').count()\n",
    "order_status_count.show()"
   ]
  },
  {
   "cell_type": "code",
   "execution_count": 0,
   "metadata": {
    "application/vnd.databricks.v1+cell": {
     "cellMetadata": {
      "byteLimit": 2048000,
      "rowLimit": 10000
     },
     "inputWidgets": {},
     "nuid": "0f1184ed-b23e-4434-8f43-a113fe1a52f9",
     "showTitle": false,
     "tableResultSettingsMap": {},
     "title": ""
    }
   },
   "outputs": [
    {
     "output_type": "stream",
     "name": "stdout",
     "output_type": "stream",
     "text": [
      "+------------+-----+\n|orders_month|count|\n+------------+-----+\n|        NULL|   50|\n|           8|   50|\n+------------+-----+\n\n"
     ]
    }
   ],
   "source": [
    "#order by month \n",
    "order_by_month=customers_orders_df.withColumn('orders_month',month(col('order_date')))\\\n",
    "    .groupBy('orders_month').count().orderBy(col('orders_month'))\n",
    "order_by_month.show()"
   ]
  },
  {
   "cell_type": "code",
   "execution_count": 0,
   "metadata": {
    "application/vnd.databricks.v1+cell": {
     "cellMetadata": {
      "byteLimit": 2048000,
      "rowLimit": 10000
     },
     "inputWidgets": {},
     "nuid": "a473df6b-f5ce-449c-983d-5399b7d2350e",
     "showTitle": false,
     "tableResultSettingsMap": {},
     "title": ""
    }
   },
   "outputs": [
    {
     "output_type": "stream",
     "name": "stderr",
     "output_type": "stream",
     "text": [
      "/databricks/python/lib/python3.11/site-packages/pyspark/sql/connect/expressions.py:1017: UserWarning: WARN WindowExpression: No Partition Defined for Window operation! Moving all data to a single partition, this can cause serious performance degradation.\n  warnings.warn(\n"
     ]
    },
    {
     "output_type": "display_data",
     "data": {
      "text/html": [
       "<style scoped>\n",
       "  .table-result-container {\n",
       "    max-height: 300px;\n",
       "    overflow: auto;\n",
       "  }\n",
       "  table, th, td {\n",
       "    border: 1px solid black;\n",
       "    border-collapse: collapse;\n",
       "  }\n",
       "  th, td {\n",
       "    padding: 5px;\n",
       "  }\n",
       "  th {\n",
       "    text-align: left;\n",
       "  }\n",
       "</style><div class='table-result-container'><table class='table-result'><thead style='background-color: white'><tr><th>customer_id</th><th>sum(total_amount)</th><th>dense_rank</th></tr></thead><tbody><tr><td>11251</td><td>4852.791766322864</td><td>1</td></tr><tr><td>7630</td><td>4785.446954689925</td><td>2</td></tr><tr><td>3047</td><td>4666.8361800275925</td><td>3</td></tr><tr><td>6520</td><td>4508.368568009902</td><td>4</td></tr><tr><td>13161</td><td>4500.269893291697</td><td>5</td></tr><tr><td>10224</td><td>4494.740364834989</td><td>6</td></tr><tr><td>14568</td><td>4485.984719835927</td><td>7</td></tr><tr><td>5967</td><td>4250.017746613385</td><td>8</td></tr><tr><td>12921</td><td>4182.487922944138</td><td>9</td></tr><tr><td>4011</td><td>4123.033676276145</td><td>10</td></tr></tbody></table></div>"
      ]
     },
     "metadata": {
      "application/vnd.databricks.v1+output": {
       "addedWidgets": {},
       "aggData": [],
       "aggError": "",
       "aggOverflow": false,
       "aggSchema": [],
       "aggSeriesLimitReached": false,
       "aggType": "",
       "arguments": {},
       "columnCustomDisplayInfos": {},
       "data": [
        [
         11251,
         4852.791766322864,
         1
        ],
        [
         7630,
         4785.446954689925,
         2
        ],
        [
         3047,
         4666.8361800275925,
         3
        ],
        [
         6520,
         4508.368568009902,
         4
        ],
        [
         13161,
         4500.269893291697,
         5
        ],
        [
         10224,
         4494.740364834989,
         6
        ],
        [
         14568,
         4485.984719835927,
         7
        ],
        [
         5967,
         4250.017746613385,
         8
        ],
        [
         12921,
         4182.487922944138,
         9
        ],
        [
         4011,
         4123.033676276145,
         10
        ]
       ],
       "datasetInfos": [],
       "dbfsResultPath": null,
       "isJsonSchema": true,
       "metadata": {},
       "overflow": false,
       "plotOptions": {
        "customPlotOptions": {},
        "displayType": "table",
        "pivotAggregation": null,
        "pivotColumns": null,
        "xColumns": null,
        "yColumns": null
       },
       "removedWidgets": [],
       "schema": [
        {
         "metadata": "{}",
         "name": "customer_id",
         "type": "\"integer\""
        },
        {
         "metadata": "{\"__autoGeneratedAlias\": \"true\"}",
         "name": "sum(total_amount)",
         "type": "\"double\""
        },
        {
         "metadata": "{}",
         "name": "dense_rank",
         "type": "\"integer\""
        }
       ],
       "type": "table"
      }
     },
     "output_type": "display_data"
    }
   ],
   "source": [
    "window_spec = Window.orderBy(col('sum(total_amount)').desc())\n",
    "\n",
    "ranked_customer = customer_total_spend.withColumn('dense_rank', dense_rank().over(window_spec))\n",
    "display(ranked_customer.limit(10))"
   ]
  },
  {
   "cell_type": "code",
   "execution_count": 0,
   "metadata": {
    "application/vnd.databricks.v1+cell": {
     "cellMetadata": {},
     "inputWidgets": {},
     "nuid": "b32ed1e0-ea47-4244-83eb-6238c3d6e188",
     "showTitle": false,
     "tableResultSettingsMap": {},
     "title": ""
    }
   },
   "outputs": [],
   "source": [
    "customer_total_spend,customers_orders_count"
   ]
  },
  {
   "cell_type": "code",
   "execution_count": 0,
   "metadata": {
    "application/vnd.databricks.v1+cell": {
     "cellMetadata": {
      "byteLimit": 2048000,
      "rowLimit": 10000
     },
     "inputWidgets": {},
     "nuid": "9e25de57-64b1-449a-8f49-78c9071697be",
     "showTitle": false,
     "tableResultSettingsMap": {},
     "title": ""
    }
   },
   "outputs": [
    {
     "output_type": "stream",
     "name": "stdout",
     "output_type": "stream",
     "text": [
      "+-----------+-----+-----------------+\n|customer_id|count|sum(total_amount)|\n+-----------+-----+-----------------+\n|         44|    1|             NULL|\n|         38|    1|             NULL|\n|         29|    1|             NULL|\n|         39|    1|             NULL|\n|         20|    1|             NULL|\n|         24|    1|             NULL|\n|         22|    1|             NULL|\n|         26|    1|             NULL|\n|         21|    1|             NULL|\n|         15|    1|             NULL|\n+-----------+-----+-----------------+\nonly showing top 10 rows\n"
     ]
    }
   ],
   "source": [
    "#finding customer with high order frequency but low total spend \n",
    "customer_spend_vs_orders=customers_orders_count.join(customer_total_spend,'customer_id',\"outer\")\\\n",
    "    .orderBy(col('count').desc(),col('sum(total_amount)'))\n",
    "    \n",
    "customer_spend_vs_orders.show(10)"
   ]
  }
 ],
 "metadata": {
  "application/vnd.databricks.v1+notebook": {
   "computePreferences": null,
   "dashboards": [],
   "environmentMetadata": {
    "base_environment": "",
    "environment_version": "2"
   },
   "inputWidgetPreferences": null,
   "language": "python",
   "notebookMetadata": {
    "mostRecentlyExecutedCommandWithImplicitDF": {
     "commandId": -1,
     "dataframes": [
      "_sqldf"
     ]
    },
    "pythonIndentUnit": 4
   },
   "notebookName": "DATA READ & PROCESS PROJECT",
   "widgets": {}
  },
  "language_info": {
   "name": "python"
  }
 },
 "nbformat": 4,
 "nbformat_minor": 0
}